{
 "cells": [
  {
   "cell_type": "markdown",
   "id": "bea151e8",
   "metadata": {},
   "source": [
    "<div>\n",
    "    <h1>\n",
    "        Exercício presidentes dos EUA (dados pessoais)\n",
    "    </h1>\n",
    "    <h3>\n",
    "        Pretende-se com este exercício construir um script ou notebook que produza um ficheiro JSON com a secção de dados pessoais de cada presidente dos EUA.\n",
    "    </h3>\n",
    "    <p>\n",
    "        Com o presente notebook irei relatar as decisões tomadas e evidenciar o respetivo código para responder ao desafio colocado.\n",
    "    </p>\n",
    "    <div class=\"alert alert-info\">\n",
    "        O inicío de cada secção será destacado com este fundo.\n",
    "    </div>\n",
    "    <div class=\"alert alert-success\">\n",
    "        Para cada secção será efetuada uma breve conclusão que será destacada com este fundo.\n",
    "    </div>\n",
    "    <p>\n",
    "        Para o efeito o indíce da resolução deste exercicio é o seguinte:\n",
    "    </p>\n",
    "        <ol>\n",
    "            <strong><li>Importação de bilbiotecas</li></strong><br>\n",
    "            <strong><li>Presidentes</li></strong>\n",
    "            <ul>\n",
    "                <li>2.1 Criação de dicionário (Presidente + link)</li>\n",
    "                <li>2.2 Criação de lista (links)</li><br>\n",
    "            </ul>\n",
    "            <strong><li>Recolha de dados pessoais</li></strong>\n",
    "            <ul>\n",
    "                <li>3.1 Dados a recolher</li>\n",
    "                <li>3.2 Estratégia</li>\n",
    "                <li>3.3 Inspecionando o html</li>\n",
    "                <li>3.4 Tratamento de erros</li>\n",
    "                <li>3.5 Código</li>\n",
    "                <li>3.6 Visulaização do resultado</li><br>\n",
    "           </ul>\n",
    "            <strong><li>Validação de dados</li></strong>\n",
    "            <ul>\n",
    "                <li>4.1 Criação de DataFrame</li>\n",
    "                <li>4.2 Expansão de dicionários</li>\n",
    "                <li>4.3 Validação</li><br>\n",
    "            </ul>\n",
    "            <strong><li>Ficheiro JSON</li></strong>\n",
    "            <ul>\n",
    "                <li>5.1 Produção do ficheiro</li>\n",
    "                <li>5.2 Visualização</li>\n",
    "            </ul>\n",
    "        </ol>\n",
    "</div>"
   ]
  },
  {
   "cell_type": "markdown",
   "id": "bcac47bf",
   "metadata": {},
   "source": [
    "<div class=\"alert alert-info\">\n",
    "        1. IMPORTAÇÃO DE BIBLIOTECAS\n",
    "</div>"
   ]
  },
  {
   "cell_type": "markdown",
   "id": "967629f3",
   "metadata": {},
   "source": [
    "<div>    \n",
    "    <p>\n",
    "        É objetivo desta secção importar as bibliotecas necessárias à resolução do desafio. As bibliotecas <code>'requests'</code> e <code>'bs4'</code>, para fazer o scraping, o <code>'pandas'</code>, para criar um dataframe de validação e a biblioteca <code>'json'</code> para criar o ficheiro jason.\n",
    "    </p>\n",
    "</div>"
   ]
  },
  {
   "cell_type": "code",
   "execution_count": 1,
   "id": "96471633",
   "metadata": {},
   "outputs": [],
   "source": [
    "import requests\n",
    "from bs4 import BeautifulSoup\n",
    "from bs4.element import Tag\n",
    "import json\n",
    "import pandas as pd"
   ]
  },
  {
   "cell_type": "markdown",
   "id": "446c1373",
   "metadata": {},
   "source": [
    "<div class=\"alert alert-success\">\n",
    "        Importadas as bibliotecas, estamos em condições de prosseguir, para a secção seguinte.\n",
    "</div>"
   ]
  },
  {
   "cell_type": "markdown",
   "id": "c4644468",
   "metadata": {},
   "source": [
    "<div class=\"alert alert-info\">\n",
    "        2. PRESIDENTES\n",
    "</div>"
   ]
  },
  {
   "cell_type": "markdown",
   "id": "115566bc",
   "metadata": {},
   "source": [
    "<div>    \n",
    "    <p>\n",
    "        Pretende-se nesta secção listar os links de cada um dos presidentes dos EUA. Vamos primeiro criar um dicionário em que a chave corresponde ao presidente e valor corresponde ao link para respetiva página.\n",
    "    </p>\n",
    "</div>"
   ]
  },
  {
   "cell_type": "markdown",
   "id": "c6cae7ce",
   "metadata": {},
   "source": [
    "___\n",
    "### 2.1 Criação de dicionário (presidente + link)\n",
    "___"
   ]
  },
  {
   "cell_type": "markdown",
   "id": "332bf4bc",
   "metadata": {},
   "source": [
    "<div>    \n",
    "    <p>\n",
    "        Para criação do dicionário pretendido reutilizou-se o código apresentado em aula (slide 37), como se apresenta de seguida.\n",
    "    </p>\n",
    "</div>"
   ]
  },
  {
   "cell_type": "code",
   "execution_count": 2,
   "id": "a9f6837f",
   "metadata": {},
   "outputs": [],
   "source": [
    "html = requests.request('GET', \"https://en.wikipedia.org/wiki/President_of_the_United_States#Timeline_of_presidents\").text"
   ]
  },
  {
   "cell_type": "code",
   "execution_count": 3,
   "id": "4ca49cb4",
   "metadata": {},
   "outputs": [],
   "source": [
    "soup = BeautifulSoup(html, 'html.parser')"
   ]
  },
  {
   "cell_type": "code",
   "execution_count": 4,
   "id": "50a27d84",
   "metadata": {},
   "outputs": [],
   "source": [
    "d = {}\n",
    "for table in soup.find_all(\"table\", attrs={'class': 'wikitable'}):\n",
    "    rows = table.find_all('tr')\n",
    "    if len(rows) != 8: continue\n",
    "    for row in rows:\n",
    "        for i, cell in enumerate(row.find_all('td')):\n",
    "            if i != 4: continue\n",
    "            for a in cell.children:\n",
    "                if type(a) is Tag and a.name == 'a':\n",
    "                    d[a.text.replace(u'\\xa0', u' ')] = f\"https://wikipedia.com{a.attrs['href']}\""
   ]
  },
  {
   "cell_type": "markdown",
   "id": "39ed6fb4",
   "metadata": {},
   "source": [
    "<div>    \n",
    "    <p>\n",
    "        Vamos dar uma olhadela o que é devolvido:\n",
    "    </p>\n",
    "</div>"
   ]
  },
  {
   "cell_type": "code",
   "execution_count": 5,
   "id": "a88dcb58",
   "metadata": {},
   "outputs": [
    {
     "name": "stdout",
     "output_type": "stream",
     "text": [
      "{'Chester A. Arthur': 'https://wikipedia.com/wiki/Chester_A._Arthur', 'George H. W. Bush': 'https://wikipedia.com/wiki/George_H._W._Bush', 'George W. Bush': 'https://wikipedia.com/wiki/George_W._Bush', 'Calvin Coolidge': 'https://wikipedia.com/wiki/Calvin_Coolidge', 'Dwight D. Eisenhower': 'https://wikipedia.com/wiki/Dwight_D._Eisenhower', 'Gerald Ford': 'https://wikipedia.com/wiki/Gerald_Ford', 'James A. Garfield': 'https://wikipedia.com/wiki/James_A._Garfield', 'Ulysses S. Grant': 'https://wikipedia.com/wiki/Ulysses_S._Grant', 'Warren G. Harding': 'https://wikipedia.com/wiki/Warren_G._Harding', 'Benjamin Harrison': 'https://wikipedia.com/wiki/Benjamin_Harrison', 'Rutherford B. Hayes': 'https://wikipedia.com/wiki/Rutherford_B._Hayes', 'Herbert Hoover': 'https://wikipedia.com/wiki/Herbert_Hoover', 'Abraham Lincoln': 'https://wikipedia.com/wiki/Abraham_Lincoln', 'William McKinley': 'https://wikipedia.com/wiki/William_McKinley', 'Richard Nixon': 'https://wikipedia.com/wiki/Richard_Nixon', 'Ronald Reagan': 'https://wikipedia.com/wiki/Ronald_Reagan', 'Theodore Roosevelt': 'https://wikipedia.com/wiki/Theodore_Roosevelt', 'William Howard Taft': 'https://wikipedia.com/wiki/William_Howard_Taft', 'Donald Trump': 'https://wikipedia.com/wiki/Donald_Trump', 'Joe Biden': 'https://wikipedia.com/wiki/Joe_Biden', 'James Buchanan': 'https://wikipedia.com/wiki/James_Buchanan', 'Jimmy Carter': 'https://wikipedia.com/wiki/Jimmy_Carter', 'Grover Cleveland': 'https://wikipedia.com/wiki/Grover_Cleveland', 'Bill Clinton': 'https://wikipedia.com/wiki/Bill_Clinton', 'Andrew Jackson': 'https://wikipedia.com/wiki/Andrew_Jackson', 'Lyndon B. Johnson': 'https://wikipedia.com/wiki/Lyndon_B._Johnson', 'John F. Kennedy': 'https://wikipedia.com/wiki/John_F._Kennedy', 'Barack Obama': 'https://wikipedia.com/wiki/Barack_Obama', 'Franklin Pierce': 'https://wikipedia.com/wiki/Franklin_Pierce', 'James K. Polk': 'https://wikipedia.com/wiki/James_K._Polk', 'Franklin D. Roosevelt': 'https://wikipedia.com/wiki/Franklin_D._Roosevelt', 'Harry S. Truman': 'https://wikipedia.com/wiki/Harry_S._Truman', 'Martin Van Buren': 'https://wikipedia.com/wiki/Martin_Van_Buren', 'Woodrow Wilson': 'https://wikipedia.com/wiki/Woodrow_Wilson', 'John Quincy Adams': 'https://wikipedia.com/wiki/John_Quincy_Adams', 'Thomas Jefferson': 'https://wikipedia.com/wiki/Thomas_Jefferson', 'James Madison': 'https://wikipedia.com/wiki/James_Madison', 'James Monroe': 'https://wikipedia.com/wiki/James_Monroe', 'Millard Fillmore': 'https://wikipedia.com/wiki/Millard_Fillmore', 'William Henry Harrison': 'https://wikipedia.com/wiki/William_Henry_Harrison', 'Zachary Taylor': 'https://wikipedia.com/wiki/Zachary_Taylor', 'John Tyler': 'https://wikipedia.com/wiki/John_Tyler', 'John Adams': 'https://wikipedia.com/wiki/John_Adams', 'Andrew Johnson': 'https://wikipedia.com/wiki/Andrew_Johnson', 'George Washington': 'https://wikipedia.com/wiki/George_Washington'}\n"
     ]
    }
   ],
   "source": [
    "print(d)"
   ]
  },
  {
   "cell_type": "markdown",
   "id": "26ebb59f",
   "metadata": {},
   "source": [
    "<div>    \n",
    "    <p>\n",
    "        Como podemos verificar, temos um dicionário cuja chave é o presidente e o respetivo valor corresponde ao link para a respetiva página.\n",
    "    </p>\n",
    "    <p>\n",
    "        Vejamos agora o ver tamanho do dicionário e comparemos com a <a href=\"https://en.wikipedia.org/wiki/President_of_the_United_States#Timeline_of_presidents\">página dos presidentes dos EUA.</a>\n",
    "    </p>\n",
    "    <p>\n",
    "        Ok. Parace estar certo (19 + 15 + 4 + 4 + 1 + 1 + 1 = 45)\n",
    "    </p>\n",
    "</div>"
   ]
  },
  {
   "cell_type": "code",
   "execution_count": 6,
   "id": "27275838",
   "metadata": {},
   "outputs": [
    {
     "name": "stdout",
     "output_type": "stream",
     "text": [
      "45\n"
     ]
    }
   ],
   "source": [
    "print(len(d))"
   ]
  },
  {
   "cell_type": "markdown",
   "id": "1066b755",
   "metadata": {},
   "source": [
    "___\n",
    "### 2.2 Criação de lista (links)\n",
    "___"
   ]
  },
  {
   "cell_type": "markdown",
   "id": "010bc71a",
   "metadata": {},
   "source": [
    "<div>    \n",
    "    <p>\n",
    "        Vamos agora gravar os links numa lista nomeada por <code>'paginas'</code> e dar uma olhadela no resultado.\n",
    "    </p>\n",
    "</div> "
   ]
  },
  {
   "cell_type": "code",
   "execution_count": 7,
   "id": "2131bb27",
   "metadata": {},
   "outputs": [
    {
     "name": "stdout",
     "output_type": "stream",
     "text": [
      "['https://wikipedia.com/wiki/Chester_A._Arthur', 'https://wikipedia.com/wiki/George_H._W._Bush', 'https://wikipedia.com/wiki/George_W._Bush', 'https://wikipedia.com/wiki/Calvin_Coolidge', 'https://wikipedia.com/wiki/Dwight_D._Eisenhower', 'https://wikipedia.com/wiki/Gerald_Ford', 'https://wikipedia.com/wiki/James_A._Garfield', 'https://wikipedia.com/wiki/Ulysses_S._Grant', 'https://wikipedia.com/wiki/Warren_G._Harding', 'https://wikipedia.com/wiki/Benjamin_Harrison', 'https://wikipedia.com/wiki/Rutherford_B._Hayes', 'https://wikipedia.com/wiki/Herbert_Hoover', 'https://wikipedia.com/wiki/Abraham_Lincoln', 'https://wikipedia.com/wiki/William_McKinley', 'https://wikipedia.com/wiki/Richard_Nixon', 'https://wikipedia.com/wiki/Ronald_Reagan', 'https://wikipedia.com/wiki/Theodore_Roosevelt', 'https://wikipedia.com/wiki/William_Howard_Taft', 'https://wikipedia.com/wiki/Donald_Trump', 'https://wikipedia.com/wiki/Joe_Biden', 'https://wikipedia.com/wiki/James_Buchanan', 'https://wikipedia.com/wiki/Jimmy_Carter', 'https://wikipedia.com/wiki/Grover_Cleveland', 'https://wikipedia.com/wiki/Bill_Clinton', 'https://wikipedia.com/wiki/Andrew_Jackson', 'https://wikipedia.com/wiki/Lyndon_B._Johnson', 'https://wikipedia.com/wiki/John_F._Kennedy', 'https://wikipedia.com/wiki/Barack_Obama', 'https://wikipedia.com/wiki/Franklin_Pierce', 'https://wikipedia.com/wiki/James_K._Polk', 'https://wikipedia.com/wiki/Franklin_D._Roosevelt', 'https://wikipedia.com/wiki/Harry_S._Truman', 'https://wikipedia.com/wiki/Martin_Van_Buren', 'https://wikipedia.com/wiki/Woodrow_Wilson', 'https://wikipedia.com/wiki/John_Quincy_Adams', 'https://wikipedia.com/wiki/Thomas_Jefferson', 'https://wikipedia.com/wiki/James_Madison', 'https://wikipedia.com/wiki/James_Monroe', 'https://wikipedia.com/wiki/Millard_Fillmore', 'https://wikipedia.com/wiki/William_Henry_Harrison', 'https://wikipedia.com/wiki/Zachary_Taylor', 'https://wikipedia.com/wiki/John_Tyler', 'https://wikipedia.com/wiki/John_Adams', 'https://wikipedia.com/wiki/Andrew_Johnson', 'https://wikipedia.com/wiki/George_Washington']\n"
     ]
    }
   ],
   "source": [
    "paginas = list(d.values())\n",
    "print(paginas)"
   ]
  },
  {
   "cell_type": "markdown",
   "id": "78f1be96",
   "metadata": {},
   "source": [
    "<div class=\"alert alert-success\">\n",
    "        Nesta secção criámos uma lista com todos os links dos presidentes dos EUA e validámos com a <a href=\"https://en.wikipedia.org/wiki/President_of_the_United_States#Timeline_of_presidents\">página dos residentes dos EUA</a>, não se tendo detetado falhas na recolha dos links.\n",
    "</div>"
   ]
  },
  {
   "cell_type": "markdown",
   "id": "4c0f7cc0",
   "metadata": {},
   "source": [
    "<div class=\"alert alert-info\">\n",
    "        3. RECOLHA DE DADOS PESSOAIS\n",
    "</div>"
   ]
  },
  {
   "cell_type": "markdown",
   "id": "eb033d8d",
   "metadata": {},
   "source": [
    "<div>    \n",
    "    <p>\n",
    "        Pretende-se nesta secção percorrer todos os links dos presidentes guardados na lista <code>'paginas'</code> e recolher alguns dados pessoais, guardando-os num dicionário.\n",
    "    </p>\n",
    "</div> "
   ]
  },
  {
   "cell_type": "markdown",
   "id": "a0fbd973",
   "metadata": {},
   "source": [
    "___\n",
    "### 3.1 Dados a recolher\n",
    "___"
   ]
  },
  {
   "cell_type": "markdown",
   "id": "007f3b29",
   "metadata": {},
   "source": [
    "<div>    \n",
    "    <p>\n",
    "        Dando uma olhadela, por exemplo á página do primeiro presidente constante na lista <code>'paginas'</code>, <a href=\"https://en.wikipedia.org/wiki/Chester_A._Arthur\">Chester Alan Arthur</a>,  visualizamos que os dados pessoais se encontram organizados na seguinte forma:\n",
    "    </p>\n",
    "    <img src=\"img_dados_pessoais.PNG\" alt=\"Parâmetros obrigatórios\" width=\"300\" height=\"300\">\n",
    "        <p>\n",
    "        Fiquemo-nos pela informação referente a 'Born', 'Died'e 'Politcal party' .\n",
    "    </p>\n",
    "</div> "
   ]
  },
  {
   "cell_type": "markdown",
   "id": "de0865bb",
   "metadata": {},
   "source": [
    "___\n",
    "### 3.2 Estatégia\n",
    "___"
   ]
  },
  {
   "cell_type": "markdown",
   "id": "b6b5c6fc",
   "metadata": {},
   "source": [
    "<div>    \n",
    "    <p>\n",
    "        A ideia seguida passa por criar um dicionário denominado por 'dic_presidentes' com a chave 'presidentes' que terá como valor uma lista que incluirá um dicionário por presidente.\n",
    "    </p>\n",
    "    <p>\n",
    "        Vampos começar por definir o a estrutura do dicionário:<br>\n",
    "    </p>\n",
    " <code>{'presidentes':\n",
    "        [{'presid':presid_1,\n",
    "        'pagina':p,\n",
    "        'born': {'nick': nickname,\n",
    "                'bday':birthday,\n",
    "                'bplace': birthday_place},\n",
    "        'died': {'diedd': died,\n",
    "                 'aged': age,\n",
    "                 'placed':place},\n",
    "        'pparty':party},\n",
    "        ...,\n",
    "        {'presid':presid_45,\n",
    "        'pagina':p,\n",
    "        'born': {'nick': nickname,\n",
    "                'bday':birthday,\n",
    "                'bplace': birthday_place},\n",
    "        'died': {'diedd': died,\n",
    "                 'aged': age,\n",
    "                 'placed':place},\n",
    "        'pparty':party}]</code>\n",
    "</div> "
   ]
  },
  {
   "cell_type": "markdown",
   "id": "428b7c7d",
   "metadata": {},
   "source": [
    "___\n",
    "### 3.3 Inspecionando o html\n",
    "___"
   ]
  },
  {
   "cell_type": "markdown",
   "id": "65f7716e",
   "metadata": {},
   "source": [
    "<div>    \n",
    "    <p>\n",
    "        Inspecionando o documento verifica-se que a informação sobre os dados pessoais dos presidentes encontram-se numa <code>'table'</code>, cujo atributo <code>'class'</code>, corresponde a <code>'infobox vcard'</code>.\n",
    "    </p>\n",
    "    <p>\n",
    "        Vamos agora ver onde se posiciona a informação pretendia, dentro da referida table:\n",
    "    </p>\n",
    "    <ul>\n",
    "        <li><strong>presid:</strong> corresponde ao texto da <code>'div'</code>, cujo atributo <code>'class'</code> é <code>'fn'</code></li><br>\n",
    "        <li><strong>nickname, birthday, birthday_place, died, age, place:</strong>\n",
    "        <p>Da análise efetuada verificou-se que dentro desta tabela existem tags <code>'th'</code> com os textos 'Born', 'Died' e 'Political party', que correspondem a cabeçalhos, às quais se seguem os respetivos, dados na tag <code>'td'</code>. Com recurso ao método <code>findNext</code>, percorreu-se o código html necessário para recolher texto necessário.</p>\n",
    "    </ul>\n",
    "    \n",
    "<div>"
   ]
  },
  {
   "cell_type": "markdown",
   "id": "6cdc4765",
   "metadata": {},
   "source": [
    "___\n",
    "### 3.4 Tratamento de erros\n",
    "___"
   ]
  },
  {
   "cell_type": "markdown",
   "id": "6b566ca9",
   "metadata": {},
   "source": [
    "<div>    \n",
    "    <p>\n",
    "        Antes de criar o código que se apresenta na seção 3.5, foram-se efetuando prints para cada um dos dados pessoais a recolher (presid, nickname, birthday,...) necessários para verificar onde o código estava a dar erro. Observando-se as páginas para as quais estava a dar erro, constatou-se que tal acontecia sempre que não havia informação, daí ter seguido o try/next, atribuindo None quando dava erro.\n",
    "    </p>\n",
    "    <p>\n",
    "        A título de exemplo segue o código do print para a recolha da informação referente ao 'nickname'. Verifica-se assim que a seguir ao presidente 'Warren Gamaliel Harding' dá erro. Vamos à lista 'paginas' e verifica-se que o presidente que está a dar erro corresponde a Benjamim Harrisson. Vamos ver a sua página <a href=https://en.wikipedia.org/wiki/Benjamin_Harrison>Benjamim Harrisson</a>.\n",
    "    </p>\n",
    "       <p>\n",
    "        Como se pode ver esta informação é inexistente, pelo que faz sentido neste caso atribuir o valor 'None'.\n",
    "    </p>\n",
    "<div>"
   ]
  },
  {
   "cell_type": "code",
   "execution_count": 17,
   "id": "283c966a",
   "metadata": {},
   "outputs": [
    {
     "name": "stdout",
     "output_type": "stream",
     "text": [
      "Chester Alan Arthur\n",
      "George Herbert Walker Bush\n",
      "George Walker Bush\n",
      "John Calvin Coolidge Jr.\n",
      "David Dwight Eisenhower\n",
      "Leslie Lynch King Jr.\n",
      "James Abram Garfield\n",
      "Hiram Ulysses Grant\n",
      "Warren Gamaliel Harding\n"
     ]
    },
    {
     "ename": "AttributeError",
     "evalue": "'NoneType' object has no attribute 'text'",
     "output_type": "error",
     "traceback": [
      "\u001b[1;31m---------------------------------------------------------------------------\u001b[0m",
      "\u001b[1;31mAttributeError\u001b[0m                            Traceback (most recent call last)",
      "\u001b[1;32m<ipython-input-17-af1171a18263>\u001b[0m in \u001b[0;36m<module>\u001b[1;34m\u001b[0m\n\u001b[0;32m      3\u001b[0m     \u001b[0msoup_f\u001b[0m \u001b[1;33m=\u001b[0m \u001b[0mBeautifulSoup\u001b[0m\u001b[1;33m(\u001b[0m\u001b[0mhtml_f\u001b[0m\u001b[1;33m,\u001b[0m \u001b[1;34m'html.parser'\u001b[0m\u001b[1;33m)\u001b[0m\u001b[1;33m\u001b[0m\u001b[1;33m\u001b[0m\u001b[0m\n\u001b[0;32m      4\u001b[0m     \u001b[1;32mfor\u001b[0m \u001b[0mt\u001b[0m \u001b[1;32min\u001b[0m \u001b[0msoup_f\u001b[0m\u001b[1;33m.\u001b[0m\u001b[0mfind_all\u001b[0m\u001b[1;33m(\u001b[0m\u001b[1;34m\"table\"\u001b[0m\u001b[1;33m,\u001b[0m \u001b[0mattrs\u001b[0m\u001b[1;33m=\u001b[0m\u001b[1;33m{\u001b[0m\u001b[1;34m'class'\u001b[0m\u001b[1;33m:\u001b[0m \u001b[1;34m'infobox vcard'\u001b[0m\u001b[1;33m}\u001b[0m\u001b[1;33m)\u001b[0m\u001b[1;33m:\u001b[0m\u001b[1;33m\u001b[0m\u001b[1;33m\u001b[0m\u001b[0m\n\u001b[1;32m----> 5\u001b[1;33m         \u001b[0mprint\u001b[0m\u001b[1;33m(\u001b[0m\u001b[0mt\u001b[0m\u001b[1;33m.\u001b[0m\u001b[0mfind\u001b[0m\u001b[1;33m(\u001b[0m\u001b[0mtext\u001b[0m\u001b[1;33m=\u001b[0m\u001b[1;34m'Born'\u001b[0m\u001b[1;33m)\u001b[0m\u001b[1;33m.\u001b[0m\u001b[0mfindNext\u001b[0m\u001b[1;33m(\u001b[0m\u001b[1;34m'td'\u001b[0m\u001b[1;33m)\u001b[0m\u001b[1;33m.\u001b[0m\u001b[0mfindNext\u001b[0m\u001b[1;33m(\u001b[0m\u001b[1;34m'div'\u001b[0m\u001b[1;33m,\u001b[0m \u001b[0mattrs\u001b[0m\u001b[1;33m=\u001b[0m\u001b[1;33m{\u001b[0m\u001b[1;34m'class'\u001b[0m\u001b[1;33m:\u001b[0m \u001b[1;34m'nickname'\u001b[0m\u001b[1;33m}\u001b[0m\u001b[1;33m)\u001b[0m\u001b[1;33m.\u001b[0m\u001b[0mtext\u001b[0m\u001b[1;33m)\u001b[0m\u001b[1;33m\u001b[0m\u001b[1;33m\u001b[0m\u001b[0m\n\u001b[0m",
      "\u001b[1;31mAttributeError\u001b[0m: 'NoneType' object has no attribute 'text'"
     ]
    }
   ],
   "source": [
    "for p in paginas:\n",
    "    html_f = requests.request('GET', p).text\n",
    "    soup_f = BeautifulSoup(html_f, 'html.parser')        \n",
    "    for t in soup_f.find_all(\"table\", attrs={'class': 'infobox vcard'}):\n",
    "        print(t.find(text='Born').findNext('td').findNext('div', attrs={'class': 'nickname'}).text)"
   ]
  },
  {
   "cell_type": "markdown",
   "id": "370b6b2e",
   "metadata": {},
   "source": [
    "___\n",
    "### 3.5 Código\n",
    "___"
   ]
  },
  {
   "cell_type": "markdown",
   "id": "43446356",
   "metadata": {},
   "source": [
    "<div>    \n",
    "    <p>\n",
    "        Antes do código importa, ainda, referir que houve a necessidade de se efetuar algum tratamento do texto recolhido:\n",
    "    </p>\n",
    "    <ul>\n",
    "        <li><strong>died:</strong> percorreu-se a string até localizar o caracter '(' e recolheu-se os 10 caracteres seguintes que correponde à data isolada (YYYY-MM-DD)</li>\n",
    "        <li><strong>age:</strong> neste caso houve necessidade de capturar os caracteres (aged AA). Neste processo o ' '(espaço) foi substituido pelos caracteres '\\xa0' pelo que houve necessidade de seguida substituir por um ' ' (espaço).</li>\n",
    "        <li><strong>party:</strong> aqui substituiu-se os caracteres '\\n' (parágrafo) por um ' ' (espaço).</li>\n",
    "    </ul>  \n",
    "    <p>\n",
    "       Vamos verificar como se viria a informação sem tal tratamento. Para experiência vamos listar apenas os ultímos registos.\n",
    "    </p>\n",
    "</div>    "
   ]
  },
  {
   "cell_type": "code",
   "execution_count": 18,
   "id": "1c256f4d",
   "metadata": {},
   "outputs": [
    {
     "name": "stdout",
     "output_type": "stream",
     "text": [
      "-----https://wikipedia.com/wiki/John_Adams\n",
      "died: (1826-07-04)\n",
      "age: July 4, 1826(1826-07-04) (aged 90)Quincy, Massachusetts, U.S.\n",
      "party: \n",
      "Pro-Administration (before 1795)\n",
      "Federalist (1795 – c. 1808)\n",
      "Democratic-Republican (c. 1808 – 1826)[4]\n",
      "\n",
      "-----https://wikipedia.com/wiki/Andrew_Johnson\n",
      "died: (1875-07-31)\n",
      "age: July 31, 1875(1875-07-31) (aged 66)Elizabethton, Tennessee, U.S.\n",
      "party: Democratic (c. 1839–1864, 1868–1875)\n",
      "-----https://wikipedia.com/wiki/George_Washington\n",
      "died: (1799-12-14)\n",
      "age: December 14, 1799(1799-12-14) (aged 67)Mount Vernon, Virginia,  U.S.\n",
      "party: Independent\n"
     ]
    }
   ],
   "source": [
    "for p in paginas[42:]:\n",
    "    html_f = requests.request('GET', p).text\n",
    "    soup_f = BeautifulSoup(html_f, 'html.parser')        \n",
    "    for t in soup_f.find_all(\"table\", attrs={'class': 'infobox vcard'}):\n",
    "        print('-----'+ p)\n",
    "        print('died: {}'.format(t.find(text='Died').findNext('span').text))\n",
    "        print('age: {}'.format(t.find(text='Died').findNext('td').text))\n",
    "        print('party: {}'.format(t.find(text='Political party').findNext('td').text))"
   ]
  },
  {
   "cell_type": "markdown",
   "id": "9c692968",
   "metadata": {},
   "source": [
    "<div>\n",
    "    <p><br>\n",
    "       Vamos ver o resultado após o tratamento.\n",
    "    </p>\n",
    "</div>   "
   ]
  },
  {
   "cell_type": "code",
   "execution_count": 19,
   "id": "84d971c5",
   "metadata": {},
   "outputs": [
    {
     "name": "stdout",
     "output_type": "stream",
     "text": [
      "-----https://wikipedia.com/wiki/John_Adams\n",
      "died: 1826-07-04\n",
      "age: aged 90\n",
      "party:  Pro-Administration (before 1795) Federalist (1795 – c. 1808) Democratic-Republican (c. 1808 – 1826)[4] \n",
      "-----https://wikipedia.com/wiki/Andrew_Johnson\n",
      "died: 1875-07-31\n",
      "age: aged 66\n",
      "party: Democratic (c. 1839–1864, 1868–1875)\n",
      "-----https://wikipedia.com/wiki/George_Washington\n",
      "died: 1799-12-14\n",
      "age: aged 67\n",
      "party: Independent\n"
     ]
    }
   ],
   "source": [
    "for p in paginas[42:]:\n",
    "    html_f = requests.request('GET', p).text\n",
    "    soup_f = BeautifulSoup(html_f, 'html.parser')        \n",
    "    for t in soup_f.find_all(\"table\", attrs={'class': 'infobox vcard'}):\n",
    "        print('-----'+ p)\n",
    "        print('died: {}'.format(t.find(text='Died').findNext('span').text\n",
    "                                [t.find(text='Died').findNext('span').text.find('(')+1:\n",
    "                                 t.find(text='Died').findNext('span').text.find('(')+11]))\n",
    "        print('age: {}'.format(t.find(text='Died').findNext('td').text.\n",
    "                               split('(')[2].split(')')[0].replace(u'\\xa0', u' ')))\n",
    "        print('party: {}'.format(t.find(text='Political party').findNext('td').text.\n",
    "                                 replace('\\n', ' ')))"
   ]
  },
  {
   "cell_type": "markdown",
   "id": "a9a3376c",
   "metadata": {},
   "source": [
    "<div>\n",
    "    <p><br>\n",
    "       Por ora, ficamo-nos por aqui com o tratamento.\n",
    "    </p>\n",
    "    <p>\n",
    "       Vamos ao código.\n",
    "    </p>\n",
    "</div>   "
   ]
  },
  {
   "cell_type": "code",
   "execution_count": 20,
   "id": "2e543dfd",
   "metadata": {},
   "outputs": [],
   "source": [
    "l = []\n",
    "for p in paginas:\n",
    "    dic_pres ={}\n",
    "    html_f = requests.request('GET', p).text\n",
    "    soup_f = BeautifulSoup(html_f, 'html.parser')\n",
    "    for t in soup_f.find_all(\"table\", attrs={'class': 'infobox vcard'}):\n",
    "#-------------------------------------------------------------------------PRESIDENT---------------------------------------------------------------------- \n",
    "        try:\n",
    "            presid = t.findNext('div', attrs={'class': 'fn'}).text\n",
    "        except:\n",
    "            presid = None\n",
    "            AttributeError        \n",
    "#-------------------------------------------------------------------------NICKNAME---------------------------------------------------------------------- \n",
    "        try:\n",
    "            nickname = (t.find(text='Born').findNext('td').\n",
    "                        findNext('div', attrs={'class': 'nickname'}).text)\n",
    "        except:\n",
    "            nickname = None\n",
    "            AttributeError\n",
    "#--------------------------------------------------------------------------BDAY-------------------------------------------------------------------------\n",
    "        birthday = (t.find(text='Born').findNext('td').\n",
    "                    findNext('span', attrs={'class': 'bday'}).text)\n",
    "#-------------------------------------------------------------------------BPLACE------------------------------------------------------------------------   \n",
    "        birthday_place = (t.find(text='Born').findNext('td').\n",
    "                          findNext('a').text)\n",
    "#--------------------------------------------------------------------------DIED-------------------------------------------------------------------------\n",
    "        try:\n",
    "            died = (t.find(text='Died').findNext('span').text\n",
    "                    [t.find(text='Died').findNext('span').text.find('(')+1:\n",
    "                     t.find(text='Died').findNext('span').text.find('(')+11])\n",
    "        except:\n",
    "            died = None\n",
    "            AttributeError\n",
    "#--------------------------------------------------------------------------AGED-------------------------------------------------------------------------    \n",
    "        try:\n",
    "            age = (t.find(text='Died').findNext('td').text.\n",
    "                   split('(')[2].split(')')[0].replace(u'\\xa0', u' '))\n",
    "        except:\n",
    "            age = None\n",
    "            AttributeError            \n",
    "#--------------------------------------------------------------------------DPLACE-------------------------------------------------------------------------    \n",
    "        try:\n",
    "            place = t.find(text='Died').findNext('span').findNext('a').text\n",
    "        except:\n",
    "            place = None\n",
    "            AttributeError\n",
    "#--------------------------------------------------------------------------PPARTY-------------------------------------------------------------------------    \n",
    "        try:\n",
    "            party = t.find(text='Political party').findNext('td').text.replace('\\n', ' ')\n",
    "        except:\n",
    "            party = None\n",
    "            AttributeError\n",
    "#------------------------------------------------------------------- CREATES A DICTIONARY ----------------------------------------------------------------\n",
    "        dic_pres[p] = {'presid':presid,\n",
    "                 'pagina':p,\n",
    "                 'born': {'nick': nickname, 'bday':birthday, 'bplace': birthday_place},\n",
    "                 'died': {'diedd': died, 'aged': age, 'placed':place},\n",
    "                 'pparty':party}\n",
    "        \n",
    "        l.append(dic_pres[p])\n",
    "        dic_presidentes = {'presidentes': l}        "
   ]
  },
  {
   "cell_type": "markdown",
   "id": "349c3392",
   "metadata": {},
   "source": [
    "___\n",
    "### 3.6.Visualização do resultado\n",
    "___"
   ]
  },
  {
   "cell_type": "markdown",
   "id": "f36af836",
   "metadata": {},
   "source": [
    "<div>\n",
    "    <p><br>\n",
    "       Vejamos o resultado! A título de exemplo vamos escolher os 3 primeiros presidentes.\n",
    "    </p>\n",
    "</div>   "
   ]
  },
  {
   "cell_type": "code",
   "execution_count": 21,
   "id": "c41ad86e",
   "metadata": {},
   "outputs": [
    {
     "data": {
      "text/plain": [
       "[{'presid': 'Chester A. Arthur',\n",
       "  'pagina': 'https://wikipedia.com/wiki/Chester_A._Arthur',\n",
       "  'born': {'nick': 'Chester Alan Arthur',\n",
       "   'bday': '1829-10-05',\n",
       "   'bplace': 'Fairfield, Vermont'},\n",
       "  'died': {'diedd': '1886-11-18',\n",
       "   'aged': 'aged 57',\n",
       "   'placed': 'New York City, New York'},\n",
       "  'pparty': 'Republican (1854–1886)'},\n",
       " {'presid': 'George H. W. Bush',\n",
       "  'pagina': 'https://wikipedia.com/wiki/George_H._W._Bush',\n",
       "  'born': {'nick': 'George Herbert Walker Bush',\n",
       "   'bday': '1924-06-12',\n",
       "   'bplace': 'Milton, Massachusetts'},\n",
       "  'died': {'diedd': '2018-11-30',\n",
       "   'aged': 'aged 94',\n",
       "   'placed': 'Houston, Texas'},\n",
       "  'pparty': 'Republican'}]"
      ]
     },
     "execution_count": 21,
     "metadata": {},
     "output_type": "execute_result"
    }
   ],
   "source": [
    "dic_presidentes['presidentes'][:2]"
   ]
  },
  {
   "cell_type": "markdown",
   "id": "5645224f",
   "metadata": {},
   "source": [
    "<div>\n",
    "    <p><br>\n",
    "       Parece que o resultado devolve os dados pretendidos, bem como na estrutura definida lá atrás.\n",
    "    </p>\n",
    "</div>   "
   ]
  },
  {
   "cell_type": "markdown",
   "id": "5cd780d0",
   "metadata": {},
   "source": [
    "<div class=\"alert alert-success\">\n",
    "        Neste capítulo escolhemos os dados a recolher e vimos como os obter. Houve necessidade de efetuar algum tratamento. E concluimos com a criação de um dicionário para guardar os dados recolhidos e posteriormente confirmámos que o dicionário segue a estrutura perconizada à priori.\n",
    "</div>"
   ]
  },
  {
   "cell_type": "markdown",
   "id": "04d1e10e",
   "metadata": {},
   "source": [
    "<div class=\"alert alert-info\">\n",
    "        4. VALIDAÇÃO DE DADOS\n",
    "</div>"
   ]
  },
  {
   "cell_type": "markdown",
   "id": "06770235",
   "metadata": {},
   "source": [
    "___\n",
    "### 4.1 Criação de DataFrame\n",
    "___"
   ]
  },
  {
   "cell_type": "markdown",
   "id": "b39ad1cd",
   "metadata": {},
   "source": [
    "<div>\n",
    "    <p>\n",
    "       Para uma visualização mais amigável, vamos converter o dicionário em DataFrame.\n",
    "    </p>\n",
    "</div>   "
   ]
  },
  {
   "cell_type": "code",
   "execution_count": 22,
   "id": "b8e972e5",
   "metadata": {},
   "outputs": [
    {
     "data": {
      "text/html": [
       "<div>\n",
       "<style scoped>\n",
       "    .dataframe tbody tr th:only-of-type {\n",
       "        vertical-align: middle;\n",
       "    }\n",
       "\n",
       "    .dataframe tbody tr th {\n",
       "        vertical-align: top;\n",
       "    }\n",
       "\n",
       "    .dataframe thead th {\n",
       "        text-align: right;\n",
       "    }\n",
       "</style>\n",
       "<table border=\"1\" class=\"dataframe\">\n",
       "  <thead>\n",
       "    <tr style=\"text-align: right;\">\n",
       "      <th></th>\n",
       "      <th>0</th>\n",
       "      <th>1</th>\n",
       "      <th>2</th>\n",
       "      <th>3</th>\n",
       "      <th>4</th>\n",
       "      <th>5</th>\n",
       "      <th>6</th>\n",
       "      <th>7</th>\n",
       "      <th>8</th>\n",
       "      <th>9</th>\n",
       "      <th>...</th>\n",
       "      <th>35</th>\n",
       "      <th>36</th>\n",
       "      <th>37</th>\n",
       "      <th>38</th>\n",
       "      <th>39</th>\n",
       "      <th>40</th>\n",
       "      <th>41</th>\n",
       "      <th>42</th>\n",
       "      <th>43</th>\n",
       "      <th>44</th>\n",
       "    </tr>\n",
       "  </thead>\n",
       "  <tbody>\n",
       "    <tr>\n",
       "      <th>0</th>\n",
       "      <td>{'presid': 'Chester A. Arthur', 'pagina': 'htt...</td>\n",
       "      <td>{'presid': 'George H. W. Bush', 'pagina': 'htt...</td>\n",
       "      <td>{'presid': 'George W. Bush', 'pagina': 'https:...</td>\n",
       "      <td>{'presid': 'Calvin Coolidge', 'pagina': 'https...</td>\n",
       "      <td>{'presid': 'Dwight D. Eisenhower', 'pagina': '...</td>\n",
       "      <td>{'presid': 'Gerald Ford', 'pagina': 'https://w...</td>\n",
       "      <td>{'presid': 'James A. Garfield', 'pagina': 'htt...</td>\n",
       "      <td>{'presid': 'Ulysses S. Grant', 'pagina': 'http...</td>\n",
       "      <td>{'presid': 'Warren G. Harding', 'pagina': 'htt...</td>\n",
       "      <td>{'presid': 'Benjamin Harrison', 'pagina': 'htt...</td>\n",
       "      <td>...</td>\n",
       "      <td>{'presid': 'Thomas Jefferson', 'pagina': 'http...</td>\n",
       "      <td>{'presid': 'James Madison', 'pagina': 'https:/...</td>\n",
       "      <td>{'presid': 'James Monroe', 'pagina': 'https://...</td>\n",
       "      <td>{'presid': 'Millard Fillmore', 'pagina': 'http...</td>\n",
       "      <td>{'presid': 'William Henry Harrison', 'pagina':...</td>\n",
       "      <td>{'presid': 'Zachary Taylor', 'pagina': 'https:...</td>\n",
       "      <td>{'presid': 'John Tyler', 'pagina': 'https://wi...</td>\n",
       "      <td>{'presid': 'John Adams', 'pagina': 'https://wi...</td>\n",
       "      <td>{'presid': 'Andrew Johnson', 'pagina': 'https:...</td>\n",
       "      <td>{'presid': 'George Washington', 'pagina': 'htt...</td>\n",
       "    </tr>\n",
       "  </tbody>\n",
       "</table>\n",
       "<p>1 rows × 45 columns</p>\n",
       "</div>"
      ],
      "text/plain": [
       "                                                  0   \\\n",
       "0  {'presid': 'Chester A. Arthur', 'pagina': 'htt...   \n",
       "\n",
       "                                                  1   \\\n",
       "0  {'presid': 'George H. W. Bush', 'pagina': 'htt...   \n",
       "\n",
       "                                                  2   \\\n",
       "0  {'presid': 'George W. Bush', 'pagina': 'https:...   \n",
       "\n",
       "                                                  3   \\\n",
       "0  {'presid': 'Calvin Coolidge', 'pagina': 'https...   \n",
       "\n",
       "                                                  4   \\\n",
       "0  {'presid': 'Dwight D. Eisenhower', 'pagina': '...   \n",
       "\n",
       "                                                  5   \\\n",
       "0  {'presid': 'Gerald Ford', 'pagina': 'https://w...   \n",
       "\n",
       "                                                  6   \\\n",
       "0  {'presid': 'James A. Garfield', 'pagina': 'htt...   \n",
       "\n",
       "                                                  7   \\\n",
       "0  {'presid': 'Ulysses S. Grant', 'pagina': 'http...   \n",
       "\n",
       "                                                  8   \\\n",
       "0  {'presid': 'Warren G. Harding', 'pagina': 'htt...   \n",
       "\n",
       "                                                  9   ...  \\\n",
       "0  {'presid': 'Benjamin Harrison', 'pagina': 'htt...  ...   \n",
       "\n",
       "                                                  35  \\\n",
       "0  {'presid': 'Thomas Jefferson', 'pagina': 'http...   \n",
       "\n",
       "                                                  36  \\\n",
       "0  {'presid': 'James Madison', 'pagina': 'https:/...   \n",
       "\n",
       "                                                  37  \\\n",
       "0  {'presid': 'James Monroe', 'pagina': 'https://...   \n",
       "\n",
       "                                                  38  \\\n",
       "0  {'presid': 'Millard Fillmore', 'pagina': 'http...   \n",
       "\n",
       "                                                  39  \\\n",
       "0  {'presid': 'William Henry Harrison', 'pagina':...   \n",
       "\n",
       "                                                  40  \\\n",
       "0  {'presid': 'Zachary Taylor', 'pagina': 'https:...   \n",
       "\n",
       "                                                  41  \\\n",
       "0  {'presid': 'John Tyler', 'pagina': 'https://wi...   \n",
       "\n",
       "                                                  42  \\\n",
       "0  {'presid': 'John Adams', 'pagina': 'https://wi...   \n",
       "\n",
       "                                                  43  \\\n",
       "0  {'presid': 'Andrew Johnson', 'pagina': 'https:...   \n",
       "\n",
       "                                                  44  \n",
       "0  {'presid': 'George Washington', 'pagina': 'htt...  \n",
       "\n",
       "[1 rows x 45 columns]"
      ]
     },
     "execution_count": 22,
     "metadata": {},
     "output_type": "execute_result"
    }
   ],
   "source": [
    "df = pd.DataFrame(dic_presidentes.values())\n",
    "df"
   ]
  },
  {
   "cell_type": "markdown",
   "id": "0643fd9d",
   "metadata": {},
   "source": [
    "<div>\n",
    "    <p><br>\n",
    "       Vamos transpor o Dataframe para temos um presidente por linha.\n",
    "    </p>\n",
    "</div>   "
   ]
  },
  {
   "cell_type": "code",
   "execution_count": 23,
   "id": "bf2c1283",
   "metadata": {},
   "outputs": [
    {
     "data": {
      "text/html": [
       "<div>\n",
       "<style scoped>\n",
       "    .dataframe tbody tr th:only-of-type {\n",
       "        vertical-align: middle;\n",
       "    }\n",
       "\n",
       "    .dataframe tbody tr th {\n",
       "        vertical-align: top;\n",
       "    }\n",
       "\n",
       "    .dataframe thead th {\n",
       "        text-align: right;\n",
       "    }\n",
       "</style>\n",
       "<table border=\"1\" class=\"dataframe\">\n",
       "  <thead>\n",
       "    <tr style=\"text-align: right;\">\n",
       "      <th></th>\n",
       "      <th>presidente</th>\n",
       "    </tr>\n",
       "  </thead>\n",
       "  <tbody>\n",
       "    <tr>\n",
       "      <th>0</th>\n",
       "      <td>{'presid': 'Chester A. Arthur', 'pagina': 'htt...</td>\n",
       "    </tr>\n",
       "    <tr>\n",
       "      <th>1</th>\n",
       "      <td>{'presid': 'George H. W. Bush', 'pagina': 'htt...</td>\n",
       "    </tr>\n",
       "    <tr>\n",
       "      <th>2</th>\n",
       "      <td>{'presid': 'George W. Bush', 'pagina': 'https:...</td>\n",
       "    </tr>\n",
       "    <tr>\n",
       "      <th>3</th>\n",
       "      <td>{'presid': 'Calvin Coolidge', 'pagina': 'https...</td>\n",
       "    </tr>\n",
       "    <tr>\n",
       "      <th>4</th>\n",
       "      <td>{'presid': 'Dwight D. Eisenhower', 'pagina': '...</td>\n",
       "    </tr>\n",
       "  </tbody>\n",
       "</table>\n",
       "</div>"
      ],
      "text/plain": [
       "                                          presidente\n",
       "0  {'presid': 'Chester A. Arthur', 'pagina': 'htt...\n",
       "1  {'presid': 'George H. W. Bush', 'pagina': 'htt...\n",
       "2  {'presid': 'George W. Bush', 'pagina': 'https:...\n",
       "3  {'presid': 'Calvin Coolidge', 'pagina': 'https...\n",
       "4  {'presid': 'Dwight D. Eisenhower', 'pagina': '..."
      ]
     },
     "execution_count": 23,
     "metadata": {},
     "output_type": "execute_result"
    }
   ],
   "source": [
    "df =df.T.rename(columns = {0: 'presidente'})\n",
    "df.head()"
   ]
  },
  {
   "cell_type": "markdown",
   "id": "97111667",
   "metadata": {},
   "source": [
    "___\n",
    "### 4.2 Expansão de dicionários\n",
    "___"
   ]
  },
  {
   "cell_type": "markdown",
   "id": "8ca4e099",
   "metadata": {},
   "source": [
    "<div>\n",
    "    <p><br>\n",
    "       Como se verificou anteriormente, cada linha tem um dicionário para cada presidente, pelo que será necessário expandir os dicionários em colunas, como se verá a seguir.\n",
    "    </p>\n",
    "</div>   "
   ]
  },
  {
   "cell_type": "code",
   "execution_count": 24,
   "id": "19a23041",
   "metadata": {},
   "outputs": [
    {
     "data": {
      "text/html": [
       "<div>\n",
       "<style scoped>\n",
       "    .dataframe tbody tr th:only-of-type {\n",
       "        vertical-align: middle;\n",
       "    }\n",
       "\n",
       "    .dataframe tbody tr th {\n",
       "        vertical-align: top;\n",
       "    }\n",
       "\n",
       "    .dataframe thead th {\n",
       "        text-align: right;\n",
       "    }\n",
       "</style>\n",
       "<table border=\"1\" class=\"dataframe\">\n",
       "  <thead>\n",
       "    <tr style=\"text-align: right;\">\n",
       "      <th></th>\n",
       "      <th>presid</th>\n",
       "      <th>pagina</th>\n",
       "      <th>born</th>\n",
       "      <th>died</th>\n",
       "      <th>pparty</th>\n",
       "    </tr>\n",
       "  </thead>\n",
       "  <tbody>\n",
       "    <tr>\n",
       "      <th>0</th>\n",
       "      <td>Chester A. Arthur</td>\n",
       "      <td>https://wikipedia.com/wiki/Chester_A._Arthur</td>\n",
       "      <td>{'nick': 'Chester Alan Arthur', 'bday': '1829-...</td>\n",
       "      <td>{'diedd': '1886-11-18', 'aged': 'aged 57', 'pl...</td>\n",
       "      <td>Republican (1854–1886)</td>\n",
       "    </tr>\n",
       "    <tr>\n",
       "      <th>1</th>\n",
       "      <td>George H. W. Bush</td>\n",
       "      <td>https://wikipedia.com/wiki/George_H._W._Bush</td>\n",
       "      <td>{'nick': 'George Herbert Walker Bush', 'bday':...</td>\n",
       "      <td>{'diedd': '2018-11-30', 'aged': 'aged 94', 'pl...</td>\n",
       "      <td>Republican</td>\n",
       "    </tr>\n",
       "    <tr>\n",
       "      <th>2</th>\n",
       "      <td>George W. Bush</td>\n",
       "      <td>https://wikipedia.com/wiki/George_W._Bush</td>\n",
       "      <td>{'nick': 'George Walker Bush', 'bday': '1946-0...</td>\n",
       "      <td>{'diedd': None, 'aged': None, 'placed': None}</td>\n",
       "      <td>Republican</td>\n",
       "    </tr>\n",
       "    <tr>\n",
       "      <th>3</th>\n",
       "      <td>Calvin Coolidge</td>\n",
       "      <td>https://wikipedia.com/wiki/Calvin_Coolidge</td>\n",
       "      <td>{'nick': 'John Calvin Coolidge Jr.', 'bday': '...</td>\n",
       "      <td>{'diedd': '1933-01-05', 'aged': 'aged 60', 'pl...</td>\n",
       "      <td>Republican</td>\n",
       "    </tr>\n",
       "    <tr>\n",
       "      <th>4</th>\n",
       "      <td>Dwight D. Eisenhower</td>\n",
       "      <td>https://wikipedia.com/wiki/Dwight_D._Eisenhower</td>\n",
       "      <td>{'nick': 'David Dwight Eisenhower', 'bday': '1...</td>\n",
       "      <td>{'diedd': '1969-03-28', 'aged': 'aged 78', 'pl...</td>\n",
       "      <td>Republican (1952–1969)</td>\n",
       "    </tr>\n",
       "  </tbody>\n",
       "</table>\n",
       "</div>"
      ],
      "text/plain": [
       "                 presid                                           pagina  \\\n",
       "0     Chester A. Arthur     https://wikipedia.com/wiki/Chester_A._Arthur   \n",
       "1     George H. W. Bush     https://wikipedia.com/wiki/George_H._W._Bush   \n",
       "2        George W. Bush        https://wikipedia.com/wiki/George_W._Bush   \n",
       "3       Calvin Coolidge       https://wikipedia.com/wiki/Calvin_Coolidge   \n",
       "4  Dwight D. Eisenhower  https://wikipedia.com/wiki/Dwight_D._Eisenhower   \n",
       "\n",
       "                                                born  \\\n",
       "0  {'nick': 'Chester Alan Arthur', 'bday': '1829-...   \n",
       "1  {'nick': 'George Herbert Walker Bush', 'bday':...   \n",
       "2  {'nick': 'George Walker Bush', 'bday': '1946-0...   \n",
       "3  {'nick': 'John Calvin Coolidge Jr.', 'bday': '...   \n",
       "4  {'nick': 'David Dwight Eisenhower', 'bday': '1...   \n",
       "\n",
       "                                                died                  pparty  \n",
       "0  {'diedd': '1886-11-18', 'aged': 'aged 57', 'pl...  Republican (1854–1886)  \n",
       "1  {'diedd': '2018-11-30', 'aged': 'aged 94', 'pl...              Republican  \n",
       "2      {'diedd': None, 'aged': None, 'placed': None}              Republican  \n",
       "3  {'diedd': '1933-01-05', 'aged': 'aged 60', 'pl...              Republican  \n",
       "4  {'diedd': '1969-03-28', 'aged': 'aged 78', 'pl...  Republican (1952–1969)  "
      ]
     },
     "execution_count": 24,
     "metadata": {},
     "output_type": "execute_result"
    }
   ],
   "source": [
    "df = pd.DataFrame(df.presidente.values.tolist())\n",
    "df.head()"
   ]
  },
  {
   "cell_type": "markdown",
   "id": "0b11cc66",
   "metadata": {},
   "source": [
    "<div>\n",
    "    <p><br>\n",
    "       Ok! Expandimos as colunas 'presid', 'pagina' e 'pparty'. Falta-nos expandir as colunas que ainda contém dicionários, a saber: 'born' e 'died'. Façamos de seguida.\n",
    "    </p>\n",
    "</div>  "
   ]
  },
  {
   "cell_type": "code",
   "execution_count": 25,
   "id": "28535a73",
   "metadata": {},
   "outputs": [
    {
     "data": {
      "text/html": [
       "<div>\n",
       "<style scoped>\n",
       "    .dataframe tbody tr th:only-of-type {\n",
       "        vertical-align: middle;\n",
       "    }\n",
       "\n",
       "    .dataframe tbody tr th {\n",
       "        vertical-align: top;\n",
       "    }\n",
       "\n",
       "    .dataframe thead th {\n",
       "        text-align: right;\n",
       "    }\n",
       "</style>\n",
       "<table border=\"1\" class=\"dataframe\">\n",
       "  <thead>\n",
       "    <tr style=\"text-align: right;\">\n",
       "      <th></th>\n",
       "      <th>presid</th>\n",
       "      <th>pagina</th>\n",
       "      <th>pparty</th>\n",
       "      <th>nick</th>\n",
       "      <th>bday</th>\n",
       "      <th>bplace</th>\n",
       "      <th>diedd</th>\n",
       "      <th>aged</th>\n",
       "      <th>placed</th>\n",
       "    </tr>\n",
       "  </thead>\n",
       "  <tbody>\n",
       "    <tr>\n",
       "      <th>0</th>\n",
       "      <td>Chester A. Arthur</td>\n",
       "      <td>https://wikipedia.com/wiki/Chester_A._Arthur</td>\n",
       "      <td>Republican (1854–1886)</td>\n",
       "      <td>Chester Alan Arthur</td>\n",
       "      <td>1829-10-05</td>\n",
       "      <td>Fairfield, Vermont</td>\n",
       "      <td>1886-11-18</td>\n",
       "      <td>aged 57</td>\n",
       "      <td>New York City, New York</td>\n",
       "    </tr>\n",
       "    <tr>\n",
       "      <th>1</th>\n",
       "      <td>George H. W. Bush</td>\n",
       "      <td>https://wikipedia.com/wiki/George_H._W._Bush</td>\n",
       "      <td>Republican</td>\n",
       "      <td>George Herbert Walker Bush</td>\n",
       "      <td>1924-06-12</td>\n",
       "      <td>Milton, Massachusetts</td>\n",
       "      <td>2018-11-30</td>\n",
       "      <td>aged 94</td>\n",
       "      <td>Houston, Texas</td>\n",
       "    </tr>\n",
       "    <tr>\n",
       "      <th>2</th>\n",
       "      <td>George W. Bush</td>\n",
       "      <td>https://wikipedia.com/wiki/George_W._Bush</td>\n",
       "      <td>Republican</td>\n",
       "      <td>George Walker Bush</td>\n",
       "      <td>1946-07-06</td>\n",
       "      <td>New Haven, Connecticut</td>\n",
       "      <td>None</td>\n",
       "      <td>None</td>\n",
       "      <td>None</td>\n",
       "    </tr>\n",
       "    <tr>\n",
       "      <th>3</th>\n",
       "      <td>Calvin Coolidge</td>\n",
       "      <td>https://wikipedia.com/wiki/Calvin_Coolidge</td>\n",
       "      <td>Republican</td>\n",
       "      <td>John Calvin Coolidge Jr.</td>\n",
       "      <td>1872-07-04</td>\n",
       "      <td>Plymouth Notch, Vermont</td>\n",
       "      <td>1933-01-05</td>\n",
       "      <td>aged 60</td>\n",
       "      <td>Northampton, Massachusetts</td>\n",
       "    </tr>\n",
       "    <tr>\n",
       "      <th>4</th>\n",
       "      <td>Dwight D. Eisenhower</td>\n",
       "      <td>https://wikipedia.com/wiki/Dwight_D._Eisenhower</td>\n",
       "      <td>Republican (1952–1969)</td>\n",
       "      <td>David Dwight Eisenhower</td>\n",
       "      <td>1890-10-14</td>\n",
       "      <td>Denison, Texas</td>\n",
       "      <td>1969-03-28</td>\n",
       "      <td>aged 78</td>\n",
       "      <td>Washington, D.C.</td>\n",
       "    </tr>\n",
       "  </tbody>\n",
       "</table>\n",
       "</div>"
      ],
      "text/plain": [
       "                 presid                                           pagina  \\\n",
       "0     Chester A. Arthur     https://wikipedia.com/wiki/Chester_A._Arthur   \n",
       "1     George H. W. Bush     https://wikipedia.com/wiki/George_H._W._Bush   \n",
       "2        George W. Bush        https://wikipedia.com/wiki/George_W._Bush   \n",
       "3       Calvin Coolidge       https://wikipedia.com/wiki/Calvin_Coolidge   \n",
       "4  Dwight D. Eisenhower  https://wikipedia.com/wiki/Dwight_D._Eisenhower   \n",
       "\n",
       "                   pparty                        nick        bday  \\\n",
       "0  Republican (1854–1886)         Chester Alan Arthur  1829-10-05   \n",
       "1              Republican  George Herbert Walker Bush  1924-06-12   \n",
       "2              Republican          George Walker Bush  1946-07-06   \n",
       "3              Republican    John Calvin Coolidge Jr.  1872-07-04   \n",
       "4  Republican (1952–1969)     David Dwight Eisenhower  1890-10-14   \n",
       "\n",
       "                    bplace       diedd     aged                      placed  \n",
       "0       Fairfield, Vermont  1886-11-18  aged 57     New York City, New York  \n",
       "1    Milton, Massachusetts  2018-11-30  aged 94              Houston, Texas  \n",
       "2   New Haven, Connecticut        None     None                        None  \n",
       "3  Plymouth Notch, Vermont  1933-01-05  aged 60  Northampton, Massachusetts  \n",
       "4           Denison, Texas  1969-03-28  aged 78            Washington, D.C.  "
      ]
     },
     "execution_count": 25,
     "metadata": {},
     "output_type": "execute_result"
    }
   ],
   "source": [
    "df = df.join(pd.DataFrame(df.born.values.tolist())).drop(columns ='born')\n",
    "df = df.join(pd.DataFrame(df.died.values.tolist())).drop(columns ='died')\n",
    "df.head()"
   ]
  },
  {
   "cell_type": "markdown",
   "id": "d88457b4",
   "metadata": {},
   "source": [
    "<div>\n",
    "    <p><br>\n",
    "       Para melhor organização dos dados, vamos reordenar as colunas.\n",
    "    </p>\n",
    "</div>  "
   ]
  },
  {
   "cell_type": "code",
   "execution_count": 26,
   "id": "b70d6b50",
   "metadata": {},
   "outputs": [
    {
     "data": {
      "text/html": [
       "<div>\n",
       "<style scoped>\n",
       "    .dataframe tbody tr th:only-of-type {\n",
       "        vertical-align: middle;\n",
       "    }\n",
       "\n",
       "    .dataframe tbody tr th {\n",
       "        vertical-align: top;\n",
       "    }\n",
       "\n",
       "    .dataframe thead th {\n",
       "        text-align: right;\n",
       "    }\n",
       "</style>\n",
       "<table border=\"1\" class=\"dataframe\">\n",
       "  <thead>\n",
       "    <tr style=\"text-align: right;\">\n",
       "      <th></th>\n",
       "      <th>presid</th>\n",
       "      <th>pagina</th>\n",
       "      <th>nick</th>\n",
       "      <th>bday</th>\n",
       "      <th>bplace</th>\n",
       "      <th>diedd</th>\n",
       "      <th>aged</th>\n",
       "      <th>placed</th>\n",
       "      <th>pparty</th>\n",
       "    </tr>\n",
       "  </thead>\n",
       "  <tbody>\n",
       "    <tr>\n",
       "      <th>0</th>\n",
       "      <td>Chester A. Arthur</td>\n",
       "      <td>https://wikipedia.com/wiki/Chester_A._Arthur</td>\n",
       "      <td>Chester Alan Arthur</td>\n",
       "      <td>1829-10-05</td>\n",
       "      <td>Fairfield, Vermont</td>\n",
       "      <td>1886-11-18</td>\n",
       "      <td>aged 57</td>\n",
       "      <td>New York City, New York</td>\n",
       "      <td>Republican (1854–1886)</td>\n",
       "    </tr>\n",
       "    <tr>\n",
       "      <th>1</th>\n",
       "      <td>George H. W. Bush</td>\n",
       "      <td>https://wikipedia.com/wiki/George_H._W._Bush</td>\n",
       "      <td>George Herbert Walker Bush</td>\n",
       "      <td>1924-06-12</td>\n",
       "      <td>Milton, Massachusetts</td>\n",
       "      <td>2018-11-30</td>\n",
       "      <td>aged 94</td>\n",
       "      <td>Houston, Texas</td>\n",
       "      <td>Republican</td>\n",
       "    </tr>\n",
       "    <tr>\n",
       "      <th>2</th>\n",
       "      <td>George W. Bush</td>\n",
       "      <td>https://wikipedia.com/wiki/George_W._Bush</td>\n",
       "      <td>George Walker Bush</td>\n",
       "      <td>1946-07-06</td>\n",
       "      <td>New Haven, Connecticut</td>\n",
       "      <td>None</td>\n",
       "      <td>None</td>\n",
       "      <td>None</td>\n",
       "      <td>Republican</td>\n",
       "    </tr>\n",
       "    <tr>\n",
       "      <th>3</th>\n",
       "      <td>Calvin Coolidge</td>\n",
       "      <td>https://wikipedia.com/wiki/Calvin_Coolidge</td>\n",
       "      <td>John Calvin Coolidge Jr.</td>\n",
       "      <td>1872-07-04</td>\n",
       "      <td>Plymouth Notch, Vermont</td>\n",
       "      <td>1933-01-05</td>\n",
       "      <td>aged 60</td>\n",
       "      <td>Northampton, Massachusetts</td>\n",
       "      <td>Republican</td>\n",
       "    </tr>\n",
       "    <tr>\n",
       "      <th>4</th>\n",
       "      <td>Dwight D. Eisenhower</td>\n",
       "      <td>https://wikipedia.com/wiki/Dwight_D._Eisenhower</td>\n",
       "      <td>David Dwight Eisenhower</td>\n",
       "      <td>1890-10-14</td>\n",
       "      <td>Denison, Texas</td>\n",
       "      <td>1969-03-28</td>\n",
       "      <td>aged 78</td>\n",
       "      <td>Washington, D.C.</td>\n",
       "      <td>Republican (1952–1969)</td>\n",
       "    </tr>\n",
       "  </tbody>\n",
       "</table>\n",
       "</div>"
      ],
      "text/plain": [
       "                 presid                                           pagina  \\\n",
       "0     Chester A. Arthur     https://wikipedia.com/wiki/Chester_A._Arthur   \n",
       "1     George H. W. Bush     https://wikipedia.com/wiki/George_H._W._Bush   \n",
       "2        George W. Bush        https://wikipedia.com/wiki/George_W._Bush   \n",
       "3       Calvin Coolidge       https://wikipedia.com/wiki/Calvin_Coolidge   \n",
       "4  Dwight D. Eisenhower  https://wikipedia.com/wiki/Dwight_D._Eisenhower   \n",
       "\n",
       "                         nick        bday                   bplace  \\\n",
       "0         Chester Alan Arthur  1829-10-05       Fairfield, Vermont   \n",
       "1  George Herbert Walker Bush  1924-06-12    Milton, Massachusetts   \n",
       "2          George Walker Bush  1946-07-06   New Haven, Connecticut   \n",
       "3    John Calvin Coolidge Jr.  1872-07-04  Plymouth Notch, Vermont   \n",
       "4     David Dwight Eisenhower  1890-10-14           Denison, Texas   \n",
       "\n",
       "        diedd     aged                      placed                  pparty  \n",
       "0  1886-11-18  aged 57     New York City, New York  Republican (1854–1886)  \n",
       "1  2018-11-30  aged 94              Houston, Texas              Republican  \n",
       "2        None     None                        None              Republican  \n",
       "3  1933-01-05  aged 60  Northampton, Massachusetts              Republican  \n",
       "4  1969-03-28  aged 78            Washington, D.C.  Republican (1952–1969)  "
      ]
     },
     "execution_count": 26,
     "metadata": {},
     "output_type": "execute_result"
    }
   ],
   "source": [
    "cols = ['presid', 'pagina', 'nick', 'bday', 'bplace', 'diedd', 'aged', 'placed', 'pparty']\n",
    "df = df[cols]\n",
    "df.head()"
   ]
  },
  {
   "cell_type": "markdown",
   "id": "4fdb75d9",
   "metadata": {},
   "source": [
    "___\n",
    "### 4.3 Validação\n",
    "___"
   ]
  },
  {
   "cell_type": "markdown",
   "id": "39878cb3",
   "metadata": {},
   "source": [
    "<div>\n",
    "    <p><br>\n",
    "       Da consulta efetuada às  páginas dos respetivos presidentes, não se constatou incoerências na recolha. A título de exemplo vejamos os seguintes 3 presidentes:\n",
    "    </p>\n",
    "    <ul>\n",
    "        <li><a href=\"https://wikipedia.com/wiki/William_Howard_Taft\">William Howard Taft</a></li>\n",
    "        <li><a href=\"https://wikipedia.com/wiki/Donald_Trump\">Donald Trump</a></li>\n",
    "        <li><a href=\"https://wikipedia.com/wiki/Joe_Biden\">Joe Biden</a></li>\n",
    "    </ul>    \n",
    "</div>  "
   ]
  },
  {
   "cell_type": "code",
   "execution_count": 27,
   "id": "e399ac19",
   "metadata": {},
   "outputs": [
    {
     "data": {
      "text/html": [
       "<div>\n",
       "<style scoped>\n",
       "    .dataframe tbody tr th:only-of-type {\n",
       "        vertical-align: middle;\n",
       "    }\n",
       "\n",
       "    .dataframe tbody tr th {\n",
       "        vertical-align: top;\n",
       "    }\n",
       "\n",
       "    .dataframe thead th {\n",
       "        text-align: right;\n",
       "    }\n",
       "</style>\n",
       "<table border=\"1\" class=\"dataframe\">\n",
       "  <thead>\n",
       "    <tr style=\"text-align: right;\">\n",
       "      <th></th>\n",
       "      <th>presid</th>\n",
       "      <th>pagina</th>\n",
       "      <th>nick</th>\n",
       "      <th>bday</th>\n",
       "      <th>bplace</th>\n",
       "      <th>diedd</th>\n",
       "      <th>aged</th>\n",
       "      <th>placed</th>\n",
       "      <th>pparty</th>\n",
       "    </tr>\n",
       "  </thead>\n",
       "  <tbody>\n",
       "    <tr>\n",
       "      <th>17</th>\n",
       "      <td>William Howard Taft</td>\n",
       "      <td>https://wikipedia.com/wiki/William_Howard_Taft</td>\n",
       "      <td>None</td>\n",
       "      <td>1857-09-15</td>\n",
       "      <td>Cincinnati</td>\n",
       "      <td>1930-03-08</td>\n",
       "      <td>aged 72</td>\n",
       "      <td>Washington, D.C.</td>\n",
       "      <td>Republican</td>\n",
       "    </tr>\n",
       "    <tr>\n",
       "      <th>18</th>\n",
       "      <td>Donald Trump</td>\n",
       "      <td>https://wikipedia.com/wiki/Donald_Trump</td>\n",
       "      <td>Donald John Trump</td>\n",
       "      <td>1946-06-14</td>\n",
       "      <td>Queens</td>\n",
       "      <td>None</td>\n",
       "      <td>None</td>\n",
       "      <td>None</td>\n",
       "      <td>Republican (1987–1999, 2009–2011, 2012–present)</td>\n",
       "    </tr>\n",
       "    <tr>\n",
       "      <th>19</th>\n",
       "      <td>Joe Biden</td>\n",
       "      <td>https://wikipedia.com/wiki/Joe_Biden</td>\n",
       "      <td>Joseph Robinette Biden Jr.</td>\n",
       "      <td>1942-11-20</td>\n",
       "      <td>Scranton, Pennsylvania</td>\n",
       "      <td>None</td>\n",
       "      <td>None</td>\n",
       "      <td>None</td>\n",
       "      <td>Democratic (1969–present)</td>\n",
       "    </tr>\n",
       "  </tbody>\n",
       "</table>\n",
       "</div>"
      ],
      "text/plain": [
       "                 presid                                          pagina  \\\n",
       "17  William Howard Taft  https://wikipedia.com/wiki/William_Howard_Taft   \n",
       "18         Donald Trump         https://wikipedia.com/wiki/Donald_Trump   \n",
       "19            Joe Biden            https://wikipedia.com/wiki/Joe_Biden   \n",
       "\n",
       "                          nick        bday                  bplace  \\\n",
       "17                        None  1857-09-15              Cincinnati   \n",
       "18           Donald John Trump  1946-06-14                  Queens   \n",
       "19  Joseph Robinette Biden Jr.  1942-11-20  Scranton, Pennsylvania   \n",
       "\n",
       "         diedd     aged            placed  \\\n",
       "17  1930-03-08  aged 72  Washington, D.C.   \n",
       "18        None     None              None   \n",
       "19        None     None              None   \n",
       "\n",
       "                                             pparty  \n",
       "17                                       Republican  \n",
       "18  Republican (1987–1999, 2009–2011, 2012–present)  \n",
       "19                        Democratic (1969–present)  "
      ]
     },
     "execution_count": 27,
     "metadata": {},
     "output_type": "execute_result"
    }
   ],
   "source": [
    "df[17:20]"
   ]
  },
  {
   "cell_type": "markdown",
   "id": "11060efc",
   "metadata": {},
   "source": [
    "<div>\n",
    "    <p><br>\n",
    "       Conforme se pode verificar enquanto que no primeiro a unica informação em falta é o 'nickname', nos 2 últimos não existe informação sobre 'died'. Consultadas as respetivas páginas, não se vislumbram incoerências entre a informação recolhida e a constante das respetivas páginas.\n",
    "    </p>\n",
    "</div>  "
   ]
  },
  {
   "cell_type": "markdown",
   "id": "6bc37a2e",
   "metadata": {},
   "source": [
    "<div class=\"alert alert-success\">\n",
    "        Aqui nesta secção criámos um dataframe para melhor visualização dos dados, que após pesquisa nas respetivas páginas, não se detetaram incoerências entre o recolhido e o constante nas respetivas páginas.\n",
    "</div>"
   ]
  },
  {
   "cell_type": "markdown",
   "id": "933bc316",
   "metadata": {},
   "source": [
    "<div class=\"alert alert-info\">\n",
    "        5. FICHEIRO JSON\n",
    "</div>"
   ]
  },
  {
   "cell_type": "markdown",
   "id": "d3eeec5c",
   "metadata": {},
   "source": [
    "___\n",
    "### 5.1 Produção do ficheiro\n",
    "___"
   ]
  },
  {
   "cell_type": "markdown",
   "id": "6c89c32a",
   "metadata": {},
   "source": [
    "<div>\n",
    "    <p><br>\n",
    "       Vamos criar o ficheiro JASON 'data.txt' e guardar na 'cwd'.\n",
    "    </p>\n",
    "</div>  "
   ]
  },
  {
   "cell_type": "code",
   "execution_count": null,
   "id": "8021fbf7",
   "metadata": {},
   "outputs": [],
   "source": [
    "with open('data.txt', 'w') as outfile:\n",
    "    json.dump(dic_presidentes, outfile)\n",
    "with open('data.json', 'w') as outfile:\n",
    "    json.dump(dic_presidentes, outfile)"
   ]
  },
  {
   "cell_type": "markdown",
   "id": "f35df017",
   "metadata": {},
   "source": [
    "___\n",
    "### 5.2 Visualização\n",
    "___"
   ]
  },
  {
   "cell_type": "markdown",
   "id": "26f2c0ba",
   "metadata": {},
   "source": [
    "<div>\n",
    "    <p><br>\n",
    "       Como se pode constatar, procurando da cwd, verifica-se que foram criados os ficheiros JSON, como pretendido.\n",
    "    </p>\n",
    "    <p>\n",
    "       Vamos agora aproveitar para ler o ficheiro JSON criado.\n",
    "    </p>\n",
    "</div>  "
   ]
  },
  {
   "cell_type": "code",
   "execution_count": 28,
   "id": "f2aa3bc0",
   "metadata": {},
   "outputs": [],
   "source": [
    "with open('data.txt', 'r') as json_file:\n",
    "    dados = json.load(json_file)"
   ]
  },
  {
   "cell_type": "markdown",
   "id": "31d72f2f",
   "metadata": {},
   "source": [
    "<div>\n",
    "    <p><br>\n",
    "       Vejamos quantos presidentes tem o ficheiro JSON e testar a informação do 1.º presidente.\n",
    "    </p>\n",
    "</div>"
   ]
  },
  {
   "cell_type": "code",
   "execution_count": 29,
   "id": "5b6edc9b",
   "metadata": {},
   "outputs": [
    {
     "name": "stdout",
     "output_type": "stream",
     "text": [
      "Nr presidentes: 45\n"
     ]
    },
    {
     "data": {
      "text/plain": [
       "{'presid': 'Chester A. Arthur',\n",
       " 'pagina': 'https://wikipedia.com/wiki/Chester_A._Arthur',\n",
       " 'born': {'nick': 'Chester Alan Arthur',\n",
       "  'bday': '1829-10-05',\n",
       "  'bplace': 'Fairfield, Vermont'},\n",
       " 'died': {'diedd': '1886-11-18',\n",
       "  'aged': 'aged 57',\n",
       "  'placed': 'New York City, New York'},\n",
       " 'pparty': 'Republican (1854–1886)'}"
      ]
     },
     "execution_count": 29,
     "metadata": {},
     "output_type": "execute_result"
    }
   ],
   "source": [
    "print('Nr presidentes: {}'.format(str(len(dados['presidentes']))))\n",
    "dados['presidentes'][0]"
   ]
  },
  {
   "cell_type": "markdown",
   "id": "178a3e5d",
   "metadata": {},
   "source": [
    "<div class=\"alert alert-success\">\n",
    "    <p>\n",
    "    Parece estar ok.\n",
    "    </p>\n",
    "</div>"
   ]
  },
  {
   "cell_type": "markdown",
   "id": "47f7627c",
   "metadata": {},
   "source": [
    "<div class=\"alert alert-success\">\n",
    "    <p>\n",
    "        Como vimos, após análise inversa, parece que o ficheiro foi bem produzido, e consegue-se ler com o médodo <code>json.load()</code>.\n",
    "    </p>\n",
    "</div>"
   ]
  }
 ],
 "metadata": {
  "kernelspec": {
   "display_name": "Python 3",
   "language": "python",
   "name": "python3"
  },
  "language_info": {
   "codemirror_mode": {
    "name": "ipython",
    "version": 3
   },
   "file_extension": ".py",
   "mimetype": "text/x-python",
   "name": "python",
   "nbconvert_exporter": "python",
   "pygments_lexer": "ipython3",
   "version": "3.8.8"
  }
 },
 "nbformat": 4,
 "nbformat_minor": 5
}
